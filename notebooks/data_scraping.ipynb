{
 "cells": [
  {
   "cell_type": "code",
   "execution_count": 51,
   "metadata": {},
   "outputs": [],
   "source": [
    "import os\n",
    "import pandas as pd\n",
    "import requests \n",
    "\n"
   ]
  },
  {
   "cell_type": "code",
   "execution_count": 57,
   "metadata": {},
   "outputs": [],
   "source": [
    "from dotenv import load_dotenv\n",
    "load_dotenv()\n",
    "\n",
    "api_key = os.environ.get('API_KEY')\n",
    "url = f'https://api.waqi.info/feed/Accra/?token={api_key}'\n",
    "\n",
    "response = requests.get(url)\n",
    "data = response.json()"
   ]
  },
  {
   "cell_type": "code",
   "execution_count": 58,
   "metadata": {},
   "outputs": [
    {
     "data": {
      "text/plain": [
       "{'status': 'ok',\n",
       " 'data': {'aqi': 55,\n",
       "  'idx': 12826,\n",
       "  'attributions': [{'url': 'https://gh.usembassy.gov/',\n",
       "    'name': 'Accra Air Quality Monitor - US EPA',\n",
       "    'logo': 'US-StateDepartment.png'},\n",
       "   {'url': 'https://waqi.info/', 'name': 'World Air Quality Index Project'}],\n",
       "  'city': {'geo': [5.580642, -0.170724],\n",
       "   'name': 'Accra US Embassy, Ghana',\n",
       "   'url': 'https://aqicn.org/city/ghana/accra/us-embassy',\n",
       "   'location': ''},\n",
       "  'dominentpol': 'pm25',\n",
       "  'iaqi': {'dew': {'v': 26},\n",
       "   'h': {'v': 79},\n",
       "   'p': {'v': 1007},\n",
       "   'pm25': {'v': 55},\n",
       "   't': {'v': 30},\n",
       "   'w': {'v': 7.2}},\n",
       "  'time': {'s': '2023-04-13 17:00:00',\n",
       "   'tz': '+00:00',\n",
       "   'v': 1681405200,\n",
       "   'iso': '2023-04-13T17:00:00Z'},\n",
       "  'forecast': {'daily': {'o3': [{'avg': 3,\n",
       "      'day': '2023-04-11',\n",
       "      'max': 8,\n",
       "      'min': 1},\n",
       "     {'avg': 4, 'day': '2023-04-12', 'max': 8, 'min': 1},\n",
       "     {'avg': 6, 'day': '2023-04-13', 'max': 18, 'min': 1},\n",
       "     {'avg': 6, 'day': '2023-04-14', 'max': 21, 'min': 1},\n",
       "     {'avg': 5, 'day': '2023-04-15', 'max': 15, 'min': 1},\n",
       "     {'avg': 4, 'day': '2023-04-16', 'max': 12, 'min': 1},\n",
       "     {'avg': 4, 'day': '2023-04-17', 'max': 12, 'min': 1},\n",
       "     {'avg': 2, 'day': '2023-04-18', 'max': 2, 'min': 1}],\n",
       "    'pm10': [{'avg': 17, 'day': '2023-04-11', 'max': 30, 'min': 9},\n",
       "     {'avg': 13, 'day': '2023-04-12', 'max': 18, 'min': 8},\n",
       "     {'avg': 25, 'day': '2023-04-13', 'max': 51, 'min': 9},\n",
       "     {'avg': 24, 'day': '2023-04-14', 'max': 49, 'min': 7},\n",
       "     {'avg': 19, 'day': '2023-04-15', 'max': 35, 'min': 6},\n",
       "     {'avg': 19, 'day': '2023-04-16', 'max': 42, 'min': 5},\n",
       "     {'avg': 28, 'day': '2023-04-17', 'max': 57, 'min': 8},\n",
       "     {'avg': 15, 'day': '2023-04-18', 'max': 15, 'min': 15}],\n",
       "    'pm25': [{'avg': 38, 'day': '2023-04-11', 'max': 65, 'min': 16},\n",
       "     {'avg': 26, 'day': '2023-04-12', 'max': 42, 'min': 13},\n",
       "     {'avg': 52, 'day': '2023-04-13', 'max': 101, 'min': 17},\n",
       "     {'avg': 47, 'day': '2023-04-14', 'max': 88, 'min': 14},\n",
       "     {'avg': 40, 'day': '2023-04-15', 'max': 74, 'min': 12},\n",
       "     {'avg': 38, 'day': '2023-04-16', 'max': 82, 'min': 10},\n",
       "     {'avg': 55, 'day': '2023-04-17', 'max': 114, 'min': 14},\n",
       "     {'avg': 28, 'day': '2023-04-18', 'max': 28, 'min': 25}]}},\n",
       "  'debug': {'sync': '2023-04-14T03:16:09+09:00'}}}"
      ]
     },
     "execution_count": 58,
     "metadata": {},
     "output_type": "execute_result"
    }
   ],
   "source": [
    "data"
   ]
  },
  {
   "cell_type": "code",
   "execution_count": null,
   "metadata": {},
   "outputs": [],
   "source": []
  }
 ],
 "metadata": {
  "kernelspec": {
   "display_name": "venv",
   "language": "python",
   "name": "python3"
  },
  "language_info": {
   "codemirror_mode": {
    "name": "ipython",
    "version": 3
   },
   "file_extension": ".py",
   "mimetype": "text/x-python",
   "name": "python",
   "nbconvert_exporter": "python",
   "pygments_lexer": "ipython3",
   "version": "3.10.11"
  },
  "orig_nbformat": 4
 },
 "nbformat": 4,
 "nbformat_minor": 2
}
